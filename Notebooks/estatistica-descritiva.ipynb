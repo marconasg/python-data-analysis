{
 "cells": [
  {
   "cell_type": "markdown",
   "metadata": {},
   "source": [
    "![](estatistica-descritiva.jpg)"
   ]
  },
  {
   "cell_type": "markdown",
   "metadata": {},
   "source": [
    "## Estatística Descritiva\n",
    "Em sua essência, a __Estatística__ é a ciência que apresenta processos próprios para coletar, apresentar e interpretar conjuntos de dados, sejam eles numéricos ou não. Seu objetivo é apresentar informações sobre dados em análise para que se tenha maior compreensão dos fatos que eles representam.\n",
    "\n",
    "A __Estatística Descritiva__, como o próprio nome já diz, se preocupa em descrever os dados."
   ]
  },
  {
   "cell_type": "markdown",
   "metadata": {},
   "source": [
    "__Importando as bibliotecas:__"
   ]
  },
  {
   "cell_type": "code",
   "execution_count": 2,
   "metadata": {},
   "outputs": [],
   "source": [
    "import pandas as pd\n",
    "import seaborn as sns\n",
    "import matplotlib.pyplot as plt\n",
    "\n",
    "import warnings\n",
    "warnings.filterwarnings('ignore')"
   ]
  },
  {
   "cell_type": "markdown",
   "metadata": {},
   "source": [
    "__Base de dados de Flores:__"
   ]
  },
  {
   "cell_type": "code",
   "execution_count": 3,
   "metadata": {},
   "outputs": [
    {
     "data": {
      "text/html": [
       "<div>\n",
       "<style scoped>\n",
       "    .dataframe tbody tr th:only-of-type {\n",
       "        vertical-align: middle;\n",
       "    }\n",
       "\n",
       "    .dataframe tbody tr th {\n",
       "        vertical-align: top;\n",
       "    }\n",
       "\n",
       "    .dataframe thead th {\n",
       "        text-align: right;\n",
       "    }\n",
       "</style>\n",
       "<table border=\"1\" class=\"dataframe\">\n",
       "  <thead>\n",
       "    <tr style=\"text-align: right;\">\n",
       "      <th></th>\n",
       "      <th>sepal_length</th>\n",
       "      <th>sepal_width</th>\n",
       "      <th>petal_length</th>\n",
       "      <th>petal_width</th>\n",
       "      <th>species</th>\n",
       "    </tr>\n",
       "  </thead>\n",
       "  <tbody>\n",
       "    <tr>\n",
       "      <th>0</th>\n",
       "      <td>5.1</td>\n",
       "      <td>3.5</td>\n",
       "      <td>1.4</td>\n",
       "      <td>0.2</td>\n",
       "      <td>setosa</td>\n",
       "    </tr>\n",
       "    <tr>\n",
       "      <th>1</th>\n",
       "      <td>4.9</td>\n",
       "      <td>3.0</td>\n",
       "      <td>1.4</td>\n",
       "      <td>0.2</td>\n",
       "      <td>setosa</td>\n",
       "    </tr>\n",
       "    <tr>\n",
       "      <th>2</th>\n",
       "      <td>4.7</td>\n",
       "      <td>3.2</td>\n",
       "      <td>1.3</td>\n",
       "      <td>0.2</td>\n",
       "      <td>setosa</td>\n",
       "    </tr>\n",
       "    <tr>\n",
       "      <th>3</th>\n",
       "      <td>4.6</td>\n",
       "      <td>3.1</td>\n",
       "      <td>1.5</td>\n",
       "      <td>0.2</td>\n",
       "      <td>setosa</td>\n",
       "    </tr>\n",
       "    <tr>\n",
       "      <th>4</th>\n",
       "      <td>5.0</td>\n",
       "      <td>3.6</td>\n",
       "      <td>1.4</td>\n",
       "      <td>0.2</td>\n",
       "      <td>setosa</td>\n",
       "    </tr>\n",
       "  </tbody>\n",
       "</table>\n",
       "</div>"
      ],
      "text/plain": [
       "   sepal_length  sepal_width  petal_length  petal_width species\n",
       "0           5.1          3.5           1.4          0.2  setosa\n",
       "1           4.9          3.0           1.4          0.2  setosa\n",
       "2           4.7          3.2           1.3          0.2  setosa\n",
       "3           4.6          3.1           1.5          0.2  setosa\n",
       "4           5.0          3.6           1.4          0.2  setosa"
      ]
     },
     "execution_count": 3,
     "metadata": {},
     "output_type": "execute_result"
    }
   ],
   "source": [
    "# Base de dados\n",
    "baseDados = sns.load_dataset('iris')\n",
    "\n",
    "# Mostrar primeiras linhas\n",
    "baseDados.head()"
   ]
  },
  {
   "cell_type": "markdown",
   "metadata": {},
   "source": [
    "---"
   ]
  },
  {
   "cell_type": "markdown",
   "metadata": {},
   "source": [
    "### Medidas de tendência central\n",
    "As medidas de tendência central são assim denominadas por indicarem um ponto em torno do qual se concentram os dados."
   ]
  },
  {
   "cell_type": "markdown",
   "metadata": {},
   "source": [
    "__Média aritmética__<p>\n",
    "A média aritmética (X) é a soma de todos os valores observados da variável, dividida pelo número total de observações."
   ]
  },
  {
   "cell_type": "code",
   "execution_count": 4,
   "metadata": {},
   "outputs": [
    {
     "data": {
      "text/plain": [
       "3.7580000000000027"
      ]
     },
     "execution_count": 4,
     "metadata": {},
     "output_type": "execute_result"
    }
   ],
   "source": [
    "baseDados['petal_length'].mean()"
   ]
  },
  {
   "cell_type": "markdown",
   "metadata": {},
   "source": [
    "__Moda__<p>\n",
    "A moda (Mo) é o valor que apresenta a maior freqüência da variável entre os valores observados."
   ]
  },
  {
   "cell_type": "code",
   "execution_count": 5,
   "metadata": {},
   "outputs": [
    {
     "data": {
      "text/plain": [
       "0    1.4\n",
       "1    1.5\n",
       "dtype: float64"
      ]
     },
     "execution_count": 5,
     "metadata": {},
     "output_type": "execute_result"
    }
   ],
   "source": [
    "baseDados['petal_length'].mode()"
   ]
  },
  {
   "cell_type": "markdown",
   "metadata": {},
   "source": [
    "__Mediana__<p>\n",
    "A mediana (Md) é o valor que ocupa a posição central da série de observações de uma variável, em rol, dividindo o conjunto em duas partes iguais, ou seja, a quantidade de valores inferiores à mediana é igual à quantidade de valores superiores a mesma."
   ]
  },
  {
   "cell_type": "code",
   "execution_count": 6,
   "metadata": {},
   "outputs": [
    {
     "data": {
      "text/plain": [
       "4.35"
      ]
     },
     "execution_count": 6,
     "metadata": {},
     "output_type": "execute_result"
    }
   ],
   "source": [
    "baseDados['petal_length'].median()"
   ]
  },
  {
   "cell_type": "markdown",
   "metadata": {},
   "source": [
    "---"
   ]
  },
  {
   "cell_type": "markdown",
   "metadata": {},
   "source": [
    "### Medidas separatrizes\n",
    "Estas medidas são valores que ocupam posições no conjunto de dados, em rol, dividindo-o em partes iguais."
   ]
  },
  {
   "cell_type": "markdown",
   "metadata": {},
   "source": [
    "__Quartis__<p>\n",
    "Os quartis dividem o conjunto de dados em quatro partes iguais."
   ]
  },
  {
   "cell_type": "markdown",
   "metadata": {},
   "source": [
    "![](https://slideplayer.com.br/slide/9337338/28/images/16/QUARTIS+OS+QUARTIS+DIVIDEM+UM+CONJUNTO+DE+DADOS+EM+QUATRO+PARTES+IGUAIS+.+ASSIM%3A+0%25+25%25+50%25+75%25.jpg)"
   ]
  },
  {
   "cell_type": "code",
   "execution_count": 7,
   "metadata": {},
   "outputs": [
    {
     "data": {
      "text/plain": [
       "count    150.000000\n",
       "mean       5.843333\n",
       "std        0.828066\n",
       "min        4.300000\n",
       "25%        5.100000\n",
       "50%        5.800000\n",
       "75%        6.400000\n",
       "max        7.900000\n",
       "Name: sepal_length, dtype: float64"
      ]
     },
     "execution_count": 7,
     "metadata": {},
     "output_type": "execute_result"
    }
   ],
   "source": [
    "# Descrevendo os dados\n",
    "baseDados['sepal_length'].describe()"
   ]
  },
  {
   "cell_type": "code",
   "execution_count": 8,
   "metadata": {},
   "outputs": [
    {
     "data": {
      "image/png": "[encoded data removed]",
      "text/plain": [
       "<Figure size 432x288 with 1 Axes>"
      ]
     },
     "metadata": {
      "needs_background": "light"
     },
     "output_type": "display_data"
    }
   ],
   "source": [
    "# Boxplot\n",
    "sns.boxplot(baseDados['sepal_length']);"
   ]
  },
  {
   "cell_type": "markdown",
   "metadata": {},
   "source": [
    "__Como ler um boxplot:__"
   ]
  },
  {
   "cell_type": "markdown",
   "metadata": {},
   "source": [
    "![](https://i0.wp.com/www.abgconsultoria.com.br/blog/wp-content/uploads/boxplot-1-1024x664.png?resize=1024%2C664)"
   ]
  },
  {
   "cell_type": "markdown",
   "metadata": {},
   "source": [
    "---"
   ]
  },
  {
   "cell_type": "markdown",
   "metadata": {},
   "source": [
    "### Medidas de dispersão\n",
    "As medidas de dispersão auxiliam as medidas de tendência central a descrever o conjunto de dados adequadamente. Indicam se os dados estão, ou não, próximos uns dos outros."
   ]
  },
  {
   "cell_type": "markdown",
   "metadata": {},
   "source": [
    "__Amplitude total:__<p>\n",
    "A amplitude total de um conjunto de dados é a diferença entre o maior e o menor valor observado."
   ]
  },
  {
   "cell_type": "code",
   "execution_count": 11,
   "metadata": {},
   "outputs": [
    {
     "data": {
      "text/plain": [
       "3.6000000000000005"
      ]
     },
     "execution_count": 11,
     "metadata": {},
     "output_type": "execute_result"
    }
   ],
   "source": [
    "baseDados['sepal_length'].max() - baseDados['sepal_length'].min()"
   ]
  },
  {
   "cell_type": "markdown",
   "metadata": {},
   "source": [
    "__Amplitude Interquartílica:__<p>\n",
    "A amplitude interquartílica é a diferença entre o terceiro e o primeiro quartil. Esta medida é mais estável que a amplitude total por não considerar os valores mais extremos."
   ]
  },
  {
   "cell_type": "code",
   "execution_count": 14,
   "metadata": {},
   "outputs": [
    {
     "data": {
      "text/plain": [
       "array([1.3])"
      ]
     },
     "execution_count": 14,
     "metadata": {},
     "output_type": "execute_result"
    }
   ],
   "source": [
    "baseDados['sepal_length'].describe()[6:7].values - baseDados['sepal_length'].describe()[4:5].values"
   ]
  },
  {
   "cell_type": "markdown",
   "metadata": {},
   "source": [
    "__Amplitude semi-interquartílica:__<p>\n",
    "A amplitude semi-interquartílica é definida como a média aritmética da diferença entre a mediana e os quartis."
   ]
  },
  {
   "cell_type": "code",
   "execution_count": 16,
   "metadata": {},
   "outputs": [
    {
     "data": {
      "text/plain": [
       "array([0.65])"
      ]
     },
     "execution_count": 16,
     "metadata": {},
     "output_type": "execute_result"
    }
   ],
   "source": [
    "(baseDados['sepal_length'].describe()[6:7].values - baseDados['sepal_length'].describe()[4:5].values) / 2"
   ]
  },
  {
   "cell_type": "markdown",
   "metadata": {},
   "source": [
    "__Variância:__<p>\n",
    "Uma medida de dispersão que mostra quão distante os valores estão da média."
   ]
  },
  {
   "cell_type": "code",
   "execution_count": 17,
   "metadata": {},
   "outputs": [
    {
     "data": {
      "text/plain": [
       "0.6856935123042505"
      ]
     },
     "execution_count": 17,
     "metadata": {},
     "output_type": "execute_result"
    }
   ],
   "source": [
    "baseDados['sepal_length'].var()"
   ]
  },
  {
   "cell_type": "markdown",
   "metadata": {},
   "source": [
    "__Desvido padrão:__<p>\n",
    "É simplesmente o resultado positivo da raiz quadrada da variância."
   ]
  },
  {
   "cell_type": "code",
   "execution_count": 18,
   "metadata": {},
   "outputs": [
    {
     "data": {
      "text/plain": [
       "0.8280661279778629"
      ]
     },
     "execution_count": 18,
     "metadata": {},
     "output_type": "execute_result"
    }
   ],
   "source": [
    "baseDados['sepal_length'].std()"
   ]
  },
  {
   "cell_type": "markdown",
   "metadata": {},
   "source": [
    "__Medidas de Assimetria:__<p>\n",
    "A medida de assimetria é um indicador da forma da distribuição dos dados. Ao construir uma distribuição de frequências e/ou um histograma, está-se buscando, também, identificar visualmente a forma da distribuição dos dados."
   ]
  },
  {
   "cell_type": "markdown",
   "metadata": {},
   "source": [
    "![Assimetria.PNG](data:image/png;base64,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)"
   ]
  },
  {
   "cell_type": "markdown",
   "metadata": {},
   "source": [
    "**Simétrica** se média = mediana = moda ou As = 0 <p>\n",
    "**Assimétrica** negativa se média ≤ mediana ≤ moda As < 0 <p>\n",
    "**Assimétrica** positiva se moda ≤ mediana ≤ média ou As > 0"
   ]
  },
  {
   "cell_type": "code",
   "execution_count": 19,
   "metadata": {},
   "outputs": [
    {
     "data": {
      "text/plain": [
       "0.3149109566369728"
      ]
     },
     "execution_count": 19,
     "metadata": {},
     "output_type": "execute_result"
    }
   ],
   "source": [
    "baseDados['sepal_length'].skew()"
   ]
  },
  {
   "cell_type": "code",
   "execution_count": 20,
   "metadata": {},
   "outputs": [
    {
     "data": {
      "image/png": "[encoded data removed]",
      "text/plain": [
       "<Figure size 432x288 with 1 Axes>"
      ]
     },
     "metadata": {
      "needs_background": "light"
     },
     "output_type": "display_data"
    }
   ],
   "source": [
    "sns.kdeplot(baseDados['sepal_length']);"
   ]
  },
  {
   "cell_type": "markdown",
   "metadata": {},
   "source": [
    "__Medidas de Curtose:__<p>\n",
    "A medida de curtose é o grau de achatamento da distribuição, é um indicador da forma desta distribuição."
   ]
  },
  {
   "cell_type": "markdown",
   "metadata": {},
   "source": [
    "![Curtose.PNG](data:image/png;base64,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)"
   ]
  },
  {
   "cell_type": "markdown",
   "metadata": {},
   "source": [
    "**Leptocúrtica**: quando a distribuição apresenta uma curva de frequência bastante fechada, com os dados fortemente concentrados em torno de seu centro, K < 0,263. <p>\n",
    "**Mesocúrtica**: quando os dados estão razoavelmente concentrados em torno de seu centro, K = 0,263. <p>\n",
    "**Platicúrtica**: quando a distribuição apresenta uma curva de frequência mais aberta, com os dados fracamente concentrados em torno de seu centro, K > 0,263."
   ]
  },
  {
   "cell_type": "code",
   "execution_count": 21,
   "metadata": {},
   "outputs": [
    {
     "data": {
      "text/plain": [
       "-0.5520640413156395"
      ]
     },
     "execution_count": 21,
     "metadata": {},
     "output_type": "execute_result"
    }
   ],
   "source": [
    "baseDados['sepal_length'].kurtosis()"
   ]
  },
  {
   "cell_type": "markdown",
   "metadata": {},
   "source": [
    "---"
   ]
  },
  {
   "cell_type": "markdown",
   "metadata": {},
   "source": []
  }
 ],
 "metadata": {
  "interpreter": {
   "hash": "ad2bdc8ecc057115af97d19610ffacc2b4e99fae6737bb82f5d7fb13d2f2c186"
  },
  "kernelspec": {
   "display_name": "Python 3.9.7 ('base')",
   "language": "python",
   "name": "python3"
  },
  "language_info": {
   "codemirror_mode": {
    "name": "ipython",
    "version": 3
   },
   "file_extension": ".py",
   "mimetype": "text/x-python",
   "name": "python",
   "nbconvert_exporter": "python",
   "pygments_lexer": "ipython3",
   "version": "3.9.7"
  },
  "orig_nbformat": 4
 },
 "nbformat": 4,
 "nbformat_minor": 2
}
